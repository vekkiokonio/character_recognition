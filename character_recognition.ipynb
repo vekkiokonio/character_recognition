{
 "cells": [
  {
   "cell_type": "code",
   "execution_count": null,
   "metadata": {
    "scrolled": true
   },
   "outputs": [],
   "source": [
    "import os\n",
    "import keras\n",
    "from keras import models\n",
    "from keras import layers\n",
    "from keras import optimizers\n",
    "from keras.preprocessing.image import ImageDataGenerator\n",
    "from keras.applications import VGG16"
   ]
  },
  {
   "cell_type": "code",
   "execution_count": null,
   "metadata": {
    "collapsed": true
   },
   "outputs": [],
   "source": [
    "# Step 0 - Initialize variables\n",
    "\n",
    "width = 224\n",
    "height = 224\n",
    "nb_epochs = 5\n",
    "trainingPath = 'img/train'\n",
    "validationPath = \"img/valid\"\n",
    "testPath = \"img/test\"\n",
    "nb_classes = len(next(os.walk(trainingPath))[1])"
   ]
  },
  {
   "cell_type": "code",
   "execution_count": null,
   "metadata": {
    "scrolled": false
   },
   "outputs": [],
   "source": [
    "# Step 1 - Load data\n",
    "\n",
    "datagen = ImageDataGenerator(rescale = 1./255,\n",
    "                             rotation_range = 20,\n",
    "                             width_shift_range = 0.2,\n",
    "                             height_shift_range = 0.2,\n",
    "                             horizontal_flip = True,\n",
    "                             fill_mode='nearest')\n",
    "\n",
    "training = datagen.flow_from_directory(trainingPath,\n",
    "                                       target_size = (width, height),\n",
    "                                       batch_size = 10,\n",
    "                                       class_mode = 'categorical')\n",
    "validation = datagen.flow_from_directory(validationPath,\n",
    "                                         target_size = (width, height),\n",
    "                                         batch_size = 4,\n",
    "                                         class_mode = 'categorical')\n",
    "\n",
    "nb_classes = len(next(os.walk(trainingPath))[1])"
   ]
  },
  {
   "cell_type": "code",
   "execution_count": null,
   "metadata": {
    "collapsed": true
   },
   "outputs": [],
   "source": [
    "# Step 2 - Load the VGG model\n",
    "\n",
    "vgg_conv = VGG16(weights = 'imagenet', include_top = False, input_shape = (width, height, 3))\n",
    "\n",
    "# Freeze the layers except the last 4 layers\n",
    "for layer in vgg_conv.layers[:-4]:\n",
    "    layer.trainable = False"
   ]
  },
  {
   "cell_type": "code",
   "execution_count": null,
   "metadata": {
    "collapsed": true
   },
   "outputs": [],
   "source": [
    "# Step 2 - Build a model from VGG16\n",
    "\n",
    "# Create the model\n",
    "model = models.Sequential()\n",
    " \n",
    "# Add the VGG convolutional base model\n",
    "model.add(vgg_conv)\n",
    " \n",
    "# Add new layers\n",
    "model.add(layers.Flatten())\n",
    "model.add(layers.Dense(1024, activation = 'relu'))\n",
    "model.add(layers.Dropout(0.5))\n",
    "model.add(layers.Dense(nb_classes, activation = 'softmax'))"
   ]
  },
  {
   "cell_type": "code",
   "execution_count": null,
   "metadata": {
    "collapsed": true
   },
   "outputs": [],
   "source": [
    "# Step 3 - Compile model\n",
    "\n",
    "model.compile(loss = 'categorical_crossentropy',\n",
    "              optimizer = optimizers.RMSprop(lr = 1e-4),\n",
    "              metrics = ['acc'])"
   ]
  },
  {
   "cell_type": "code",
   "execution_count": null,
   "metadata": {},
   "outputs": [],
   "source": [
    "# Step 4 - Train model\n",
    "\n",
    "model.fit_generator(training,\n",
    "                    steps_per_epoch = len(training),\n",
    "                    epochs = nb_epochs,\n",
    "                    validation_data = validation,\n",
    "                    validation_steps = len(validation),\n",
    "                    verbose = 2)\n",
    "\n",
    "model.save_weights('model/vgg16.h5')"
   ]
  },
  {
   "cell_type": "code",
   "execution_count": null,
   "metadata": {},
   "outputs": [],
   "source": [
    "# Step 5 - Evaluate the performance with the test set\n",
    "\n",
    "test = datagen.flow_from_directory(testPath,\n",
    "                                   target_size = (width, height),\n",
    "                                   batch_size = 10,\n",
    "                                   class_mode = 'categorical')\n",
    "\n",
    "predictions = model.predict_generator(test,\n",
    "                                      steps = len(test),\n",
    "                                      verbose = 2)"
   ]
  }
 ],
 "metadata": {
  "kernelspec": {
   "display_name": "Python 3",
   "language": "python",
   "name": "python3"
  },
  "language_info": {
   "codemirror_mode": {
    "name": "ipython",
    "version": 3
   },
   "file_extension": ".py",
   "mimetype": "text/x-python",
   "name": "python",
   "nbconvert_exporter": "python",
   "pygments_lexer": "ipython3",
   "version": "3.6.3"
  }
 },
 "nbformat": 4,
 "nbformat_minor": 2
}
